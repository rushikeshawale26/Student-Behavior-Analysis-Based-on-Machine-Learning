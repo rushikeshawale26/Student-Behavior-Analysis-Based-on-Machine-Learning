{
 "cells": [
  {
   "cell_type": "code",
   "execution_count": 1,
   "metadata": {},
   "outputs": [],
   "source": [
    "import warnings\n",
    "warnings.filterwarnings('ignore')"
   ]
  },
  {
   "cell_type": "code",
   "execution_count": 2,
   "metadata": {},
   "outputs": [],
   "source": [
    "#importing python classes and packages\n",
    "import matplotlib.pyplot as plt\n",
    "#from tkinter.filedialog import askopenfilename\n",
    "import numpy as np\n",
    "import pandas as pd\n",
    "from sklearn.preprocessing import LabelEncoder\n",
    "from sklearn.metrics import accuracy_score\n",
    "from sklearn.preprocessing import MinMaxScaler\n",
    "from sklearn.tree import DecisionTreeClassifier\n",
    "from sklearn.naive_bayes import GaussianNB\n",
    "import seaborn as sns\n",
    "from sklearn.metrics import precision_score\n",
    "from sklearn.metrics import recall_score\n",
    "from sklearn.metrics import f1_score\n",
    "from sklearn.model_selection import train_test_split\n",
    "from xgboost import XGBClassifier\n",
    "from sklearn.ensemble import RandomForestClassifier\n",
    "from sklearn.neural_network import MLPClassifier\n",
    "from sklearn.neighbors import KNeighborsClassifier\n",
    "from sklearn.metrics import confusion_matrix"
   ]
  },
  {
   "cell_type": "code",
   "execution_count": 3,
   "metadata": {},
   "outputs": [],
   "source": [
    "#function to remove mising and ouliers values\n",
    "def removeOutlierMissingValues(X):\n",
    "    for j in range(X.shape[1]):\n",
    "        mask_j = np.isnan(X[:,j])\n",
    "        X[mask_j,j] = np.interp(np.flatnonzero(mask_j), np.flatnonzero(~mask_j), X[~mask_j,j])\n",
    "    return X"
   ]
  },
  {
   "cell_type": "code",
   "execution_count": 4,
   "metadata": {},
   "outputs": [],
   "source": [
    "sc = MinMaxScaler(feature_range = (0, 1)) #use to normalize training data"
   ]
  },
  {
   "cell_type": "code",
   "execution_count": 5,
   "metadata": {},
   "outputs": [
    {
     "data": {
      "text/html": [
       "<div>\n",
       "<style scoped>\n",
       "    .dataframe tbody tr th:only-of-type {\n",
       "        vertical-align: middle;\n",
       "    }\n",
       "\n",
       "    .dataframe tbody tr th {\n",
       "        vertical-align: top;\n",
       "    }\n",
       "\n",
       "    .dataframe thead th {\n",
       "        text-align: right;\n",
       "    }\n",
       "</style>\n",
       "<table border=\"1\" class=\"dataframe\">\n",
       "  <thead>\n",
       "    <tr style=\"text-align: right;\">\n",
       "      <th></th>\n",
       "      <th>IPC1</th>\n",
       "      <th>IPC2</th>\n",
       "      <th>IPC3</th>\n",
       "      <th>IAC1</th>\n",
       "      <th>IAC2</th>\n",
       "      <th>LLC1</th>\n",
       "      <th>LLC2</th>\n",
       "      <th>ISK1</th>\n",
       "      <th>ISK2</th>\n",
       "      <th>ISK3</th>\n",
       "      <th>ISK4</th>\n",
       "      <th>IAS1</th>\n",
       "      <th>IT1</th>\n",
       "      <th>IT2</th>\n",
       "      <th>IT3</th>\n",
       "      <th>IB1</th>\n",
       "      <th>IE1</th>\n",
       "      <th>IE2</th>\n",
       "      <th>ILR1</th>\n",
       "      <th>label</th>\n",
       "    </tr>\n",
       "  </thead>\n",
       "  <tbody>\n",
       "    <tr>\n",
       "      <th>0</th>\n",
       "      <td>69</td>\n",
       "      <td>63</td>\n",
       "      <td>78</td>\n",
       "      <td>87</td>\n",
       "      <td>94</td>\n",
       "      <td>94</td>\n",
       "      <td>87</td>\n",
       "      <td>84</td>\n",
       "      <td>61</td>\n",
       "      <td>4</td>\n",
       "      <td>4</td>\n",
       "      <td>7.9</td>\n",
       "      <td>A</td>\n",
       "      <td>1.0</td>\n",
       "      <td>0.0</td>\n",
       "      <td>0.0</td>\n",
       "      <td>0.0</td>\n",
       "      <td>0.0</td>\n",
       "      <td>no</td>\n",
       "      <td>excellent</td>\n",
       "    </tr>\n",
       "    <tr>\n",
       "      <th>1</th>\n",
       "      <td>78</td>\n",
       "      <td>62</td>\n",
       "      <td>73</td>\n",
       "      <td>60</td>\n",
       "      <td>71</td>\n",
       "      <td>70</td>\n",
       "      <td>73</td>\n",
       "      <td>84</td>\n",
       "      <td>91</td>\n",
       "      <td>7</td>\n",
       "      <td>2</td>\n",
       "      <td>5.4</td>\n",
       "      <td>B</td>\n",
       "      <td>2.0</td>\n",
       "      <td>0.0</td>\n",
       "      <td>0.0</td>\n",
       "      <td>0.0</td>\n",
       "      <td>0.0</td>\n",
       "      <td>no</td>\n",
       "      <td>medium</td>\n",
       "    </tr>\n",
       "    <tr>\n",
       "      <th>2</th>\n",
       "      <td>71</td>\n",
       "      <td>86</td>\n",
       "      <td>91</td>\n",
       "      <td>87</td>\n",
       "      <td>61</td>\n",
       "      <td>81</td>\n",
       "      <td>72</td>\n",
       "      <td>72</td>\n",
       "      <td>94</td>\n",
       "      <td>1</td>\n",
       "      <td>1</td>\n",
       "      <td>5.2</td>\n",
       "      <td>B</td>\n",
       "      <td>7.0</td>\n",
       "      <td>0.0</td>\n",
       "      <td>0.0</td>\n",
       "      <td>0.0</td>\n",
       "      <td>0.0</td>\n",
       "      <td>no</td>\n",
       "      <td>excellent</td>\n",
       "    </tr>\n",
       "    <tr>\n",
       "      <th>3</th>\n",
       "      <td>76</td>\n",
       "      <td>87</td>\n",
       "      <td>60</td>\n",
       "      <td>84</td>\n",
       "      <td>89</td>\n",
       "      <td>73</td>\n",
       "      <td>62</td>\n",
       "      <td>88</td>\n",
       "      <td>69</td>\n",
       "      <td>1</td>\n",
       "      <td>2</td>\n",
       "      <td>8.5</td>\n",
       "      <td>C</td>\n",
       "      <td>10.0</td>\n",
       "      <td>0.0</td>\n",
       "      <td>0.0</td>\n",
       "      <td>0.0</td>\n",
       "      <td>0.0</td>\n",
       "      <td>yes</td>\n",
       "      <td>excellent</td>\n",
       "    </tr>\n",
       "    <tr>\n",
       "      <th>4</th>\n",
       "      <td>92</td>\n",
       "      <td>62</td>\n",
       "      <td>90</td>\n",
       "      <td>67</td>\n",
       "      <td>71</td>\n",
       "      <td>89</td>\n",
       "      <td>73</td>\n",
       "      <td>71</td>\n",
       "      <td>73</td>\n",
       "      <td>5</td>\n",
       "      <td>6</td>\n",
       "      <td>8.8</td>\n",
       "      <td>C</td>\n",
       "      <td>6.0</td>\n",
       "      <td>0.0</td>\n",
       "      <td>0.0</td>\n",
       "      <td>0.0</td>\n",
       "      <td>0.0</td>\n",
       "      <td>no</td>\n",
       "      <td>excellent</td>\n",
       "    </tr>\n",
       "    <tr>\n",
       "      <th>...</th>\n",
       "      <td>...</td>\n",
       "      <td>...</td>\n",
       "      <td>...</td>\n",
       "      <td>...</td>\n",
       "      <td>...</td>\n",
       "      <td>...</td>\n",
       "      <td>...</td>\n",
       "      <td>...</td>\n",
       "      <td>...</td>\n",
       "      <td>...</td>\n",
       "      <td>...</td>\n",
       "      <td>...</td>\n",
       "      <td>...</td>\n",
       "      <td>...</td>\n",
       "      <td>...</td>\n",
       "      <td>...</td>\n",
       "      <td>...</td>\n",
       "      <td>...</td>\n",
       "      <td>...</td>\n",
       "      <td>...</td>\n",
       "    </tr>\n",
       "    <tr>\n",
       "      <th>1008</th>\n",
       "      <td>88</td>\n",
       "      <td>85</td>\n",
       "      <td>68</td>\n",
       "      <td>84</td>\n",
       "      <td>88</td>\n",
       "      <td>66</td>\n",
       "      <td>86</td>\n",
       "      <td>76</td>\n",
       "      <td>82</td>\n",
       "      <td>2</td>\n",
       "      <td>2</td>\n",
       "      <td>7.6</td>\n",
       "      <td>A</td>\n",
       "      <td>1.0</td>\n",
       "      <td>0.0</td>\n",
       "      <td>0.0</td>\n",
       "      <td>0.0</td>\n",
       "      <td>0.0</td>\n",
       "      <td>no</td>\n",
       "      <td>excellent</td>\n",
       "    </tr>\n",
       "    <tr>\n",
       "      <th>1009</th>\n",
       "      <td>76</td>\n",
       "      <td>63</td>\n",
       "      <td>92</td>\n",
       "      <td>74</td>\n",
       "      <td>76</td>\n",
       "      <td>81</td>\n",
       "      <td>76</td>\n",
       "      <td>87</td>\n",
       "      <td>81</td>\n",
       "      <td>8</td>\n",
       "      <td>7</td>\n",
       "      <td>7.4</td>\n",
       "      <td>C</td>\n",
       "      <td>7.0</td>\n",
       "      <td>0.0</td>\n",
       "      <td>0.0</td>\n",
       "      <td>0.0</td>\n",
       "      <td>0.0</td>\n",
       "      <td>yes</td>\n",
       "      <td>excellent</td>\n",
       "    </tr>\n",
       "    <tr>\n",
       "      <th>1010</th>\n",
       "      <td>74</td>\n",
       "      <td>94</td>\n",
       "      <td>94</td>\n",
       "      <td>82</td>\n",
       "      <td>64</td>\n",
       "      <td>92</td>\n",
       "      <td>84</td>\n",
       "      <td>67</td>\n",
       "      <td>80</td>\n",
       "      <td>4</td>\n",
       "      <td>6</td>\n",
       "      <td>7.7</td>\n",
       "      <td>C</td>\n",
       "      <td>5.0</td>\n",
       "      <td>0.0</td>\n",
       "      <td>0.0</td>\n",
       "      <td>0.0</td>\n",
       "      <td>0.0</td>\n",
       "      <td>no</td>\n",
       "      <td>poor</td>\n",
       "    </tr>\n",
       "    <tr>\n",
       "      <th>1011</th>\n",
       "      <td>60</td>\n",
       "      <td>84</td>\n",
       "      <td>84</td>\n",
       "      <td>70</td>\n",
       "      <td>80</td>\n",
       "      <td>78</td>\n",
       "      <td>64</td>\n",
       "      <td>83</td>\n",
       "      <td>60</td>\n",
       "      <td>8</td>\n",
       "      <td>6</td>\n",
       "      <td>7.6</td>\n",
       "      <td>D</td>\n",
       "      <td>8.0</td>\n",
       "      <td>0.0</td>\n",
       "      <td>0.0</td>\n",
       "      <td>0.0</td>\n",
       "      <td>0.0</td>\n",
       "      <td>yes</td>\n",
       "      <td>excellent</td>\n",
       "    </tr>\n",
       "    <tr>\n",
       "      <th>1012</th>\n",
       "      <td>91</td>\n",
       "      <td>61</td>\n",
       "      <td>83</td>\n",
       "      <td>80</td>\n",
       "      <td>88</td>\n",
       "      <td>62</td>\n",
       "      <td>88</td>\n",
       "      <td>76</td>\n",
       "      <td>86</td>\n",
       "      <td>9</td>\n",
       "      <td>1</td>\n",
       "      <td>7.4</td>\n",
       "      <td>D</td>\n",
       "      <td>5.0</td>\n",
       "      <td>0.0</td>\n",
       "      <td>0.0</td>\n",
       "      <td>0.0</td>\n",
       "      <td>0.0</td>\n",
       "      <td>no</td>\n",
       "      <td>excellent</td>\n",
       "    </tr>\n",
       "  </tbody>\n",
       "</table>\n",
       "<p>1013 rows × 20 columns</p>\n",
       "</div>"
      ],
      "text/plain": [
       "      IPC1  IPC2  IPC3  IAC1  IAC2  LLC1  LLC2  ISK1  ISK2  ISK3  ISK4  IAS1  \\\n",
       "0       69    63    78    87    94    94    87    84    61     4     4   7.9   \n",
       "1       78    62    73    60    71    70    73    84    91     7     2   5.4   \n",
       "2       71    86    91    87    61    81    72    72    94     1     1   5.2   \n",
       "3       76    87    60    84    89    73    62    88    69     1     2   8.5   \n",
       "4       92    62    90    67    71    89    73    71    73     5     6   8.8   \n",
       "...    ...   ...   ...   ...   ...   ...   ...   ...   ...   ...   ...   ...   \n",
       "1008    88    85    68    84    88    66    86    76    82     2     2   7.6   \n",
       "1009    76    63    92    74    76    81    76    87    81     8     7   7.4   \n",
       "1010    74    94    94    82    64    92    84    67    80     4     6   7.7   \n",
       "1011    60    84    84    70    80    78    64    83    60     8     6   7.6   \n",
       "1012    91    61    83    80    88    62    88    76    86     9     1   7.4   \n",
       "\n",
       "     IT1   IT2  IT3  IB1  IE1  IE2 ILR1      label  \n",
       "0      A   1.0  0.0  0.0  0.0  0.0   no  excellent  \n",
       "1      B   2.0  0.0  0.0  0.0  0.0   no     medium  \n",
       "2      B   7.0  0.0  0.0  0.0  0.0   no  excellent  \n",
       "3     C   10.0  0.0  0.0  0.0  0.0  yes  excellent  \n",
       "4     C    6.0  0.0  0.0  0.0  0.0   no  excellent  \n",
       "...   ..   ...  ...  ...  ...  ...  ...        ...  \n",
       "1008   A   1.0  0.0  0.0  0.0  0.0   no  excellent  \n",
       "1009   C   7.0  0.0  0.0  0.0  0.0  yes  excellent  \n",
       "1010   C   5.0  0.0  0.0  0.0  0.0   no       poor  \n",
       "1011   D   8.0  0.0  0.0  0.0  0.0  yes  excellent  \n",
       "1012   D   5.0  0.0  0.0  0.0  0.0   no  excellent  \n",
       "\n",
       "[1013 rows x 20 columns]"
      ]
     },
     "execution_count": 5,
     "metadata": {},
     "output_type": "execute_result"
    }
   ],
   "source": [
    "#load and display dataset values\n",
    "dataset = pd.read_csv(\"Dataset/Dataset.csv\")\n",
    "dataset.fillna(0, inplace = True)\n",
    "dataset"
   ]
  },
  {
   "cell_type": "code",
   "execution_count": 6,
   "metadata": {},
   "outputs": [
    {
     "data": {
      "image/png": "[encoded data removed]",
      "text/plain": [
       "<Figure size 432x288 with 1 Axes>"
      ]
     },
     "metadata": {
      "needs_background": "light"
     },
     "output_type": "display_data"
    }
   ],
   "source": [
    "#labels in dataset\n",
    "unique, count = np.unique(dataset['label'], return_counts = True)\n",
    "height = count\n",
    "bars = unique\n",
    "y_pos = np.arange(len(bars))\n",
    "plt.bar(y_pos, height)\n",
    "plt.xticks(y_pos, bars)\n",
    "plt.xlabel(\"Dataset Class Label Graph\")\n",
    "plt.ylabel(\"Count\")\n",
    "plt.show()"
   ]
  },
  {
   "cell_type": "code",
   "execution_count": 7,
   "metadata": {},
   "outputs": [],
   "source": [
    "del dataset['IT1']"
   ]
  },
  {
   "cell_type": "code",
   "execution_count": 8,
   "metadata": {},
   "outputs": [],
   "source": [
    "# Import label encoder \n",
    "from sklearn import preprocessing \n",
    "\n",
    "# label_encoder object knows \n",
    "# how to understand word labels. \n",
    "label_encoder = preprocessing.LabelEncoder() \n",
    "\n",
    "# Encode labels in column 'species'. \n",
    "dataset['ILR1']= label_encoder.fit_transform(dataset['ILR1'])\n",
    "dataset['label']= label_encoder.fit_transform(dataset['label'])"
   ]
  },
  {
   "cell_type": "code",
   "execution_count": 9,
   "metadata": {},
   "outputs": [
    {
     "data": {
      "text/html": [
       "<div>\n",
       "<style scoped>\n",
       "    .dataframe tbody tr th:only-of-type {\n",
       "        vertical-align: middle;\n",
       "    }\n",
       "\n",
       "    .dataframe tbody tr th {\n",
       "        vertical-align: top;\n",
       "    }\n",
       "\n",
       "    .dataframe thead th {\n",
       "        text-align: right;\n",
       "    }\n",
       "</style>\n",
       "<table border=\"1\" class=\"dataframe\">\n",
       "  <thead>\n",
       "    <tr style=\"text-align: right;\">\n",
       "      <th></th>\n",
       "      <th>IPC1</th>\n",
       "      <th>IPC2</th>\n",
       "      <th>IPC3</th>\n",
       "      <th>IAC1</th>\n",
       "      <th>IAC2</th>\n",
       "      <th>LLC1</th>\n",
       "      <th>LLC2</th>\n",
       "      <th>ISK1</th>\n",
       "      <th>ISK2</th>\n",
       "      <th>ISK3</th>\n",
       "      <th>ISK4</th>\n",
       "      <th>IAS1</th>\n",
       "      <th>IT2</th>\n",
       "      <th>IT3</th>\n",
       "      <th>IB1</th>\n",
       "      <th>IE1</th>\n",
       "      <th>IE2</th>\n",
       "      <th>ILR1</th>\n",
       "      <th>label</th>\n",
       "    </tr>\n",
       "  </thead>\n",
       "  <tbody>\n",
       "    <tr>\n",
       "      <th>0</th>\n",
       "      <td>69</td>\n",
       "      <td>63</td>\n",
       "      <td>78</td>\n",
       "      <td>87</td>\n",
       "      <td>94</td>\n",
       "      <td>94</td>\n",
       "      <td>87</td>\n",
       "      <td>84</td>\n",
       "      <td>61</td>\n",
       "      <td>4</td>\n",
       "      <td>4</td>\n",
       "      <td>7.9</td>\n",
       "      <td>1.0</td>\n",
       "      <td>0.0</td>\n",
       "      <td>0.0</td>\n",
       "      <td>0.0</td>\n",
       "      <td>0.0</td>\n",
       "      <td>0</td>\n",
       "      <td>0</td>\n",
       "    </tr>\n",
       "    <tr>\n",
       "      <th>1</th>\n",
       "      <td>78</td>\n",
       "      <td>62</td>\n",
       "      <td>73</td>\n",
       "      <td>60</td>\n",
       "      <td>71</td>\n",
       "      <td>70</td>\n",
       "      <td>73</td>\n",
       "      <td>84</td>\n",
       "      <td>91</td>\n",
       "      <td>7</td>\n",
       "      <td>2</td>\n",
       "      <td>5.4</td>\n",
       "      <td>2.0</td>\n",
       "      <td>0.0</td>\n",
       "      <td>0.0</td>\n",
       "      <td>0.0</td>\n",
       "      <td>0.0</td>\n",
       "      <td>0</td>\n",
       "      <td>1</td>\n",
       "    </tr>\n",
       "    <tr>\n",
       "      <th>2</th>\n",
       "      <td>71</td>\n",
       "      <td>86</td>\n",
       "      <td>91</td>\n",
       "      <td>87</td>\n",
       "      <td>61</td>\n",
       "      <td>81</td>\n",
       "      <td>72</td>\n",
       "      <td>72</td>\n",
       "      <td>94</td>\n",
       "      <td>1</td>\n",
       "      <td>1</td>\n",
       "      <td>5.2</td>\n",
       "      <td>7.0</td>\n",
       "      <td>0.0</td>\n",
       "      <td>0.0</td>\n",
       "      <td>0.0</td>\n",
       "      <td>0.0</td>\n",
       "      <td>0</td>\n",
       "      <td>0</td>\n",
       "    </tr>\n",
       "    <tr>\n",
       "      <th>3</th>\n",
       "      <td>76</td>\n",
       "      <td>87</td>\n",
       "      <td>60</td>\n",
       "      <td>84</td>\n",
       "      <td>89</td>\n",
       "      <td>73</td>\n",
       "      <td>62</td>\n",
       "      <td>88</td>\n",
       "      <td>69</td>\n",
       "      <td>1</td>\n",
       "      <td>2</td>\n",
       "      <td>8.5</td>\n",
       "      <td>10.0</td>\n",
       "      <td>0.0</td>\n",
       "      <td>0.0</td>\n",
       "      <td>0.0</td>\n",
       "      <td>0.0</td>\n",
       "      <td>1</td>\n",
       "      <td>0</td>\n",
       "    </tr>\n",
       "    <tr>\n",
       "      <th>4</th>\n",
       "      <td>92</td>\n",
       "      <td>62</td>\n",
       "      <td>90</td>\n",
       "      <td>67</td>\n",
       "      <td>71</td>\n",
       "      <td>89</td>\n",
       "      <td>73</td>\n",
       "      <td>71</td>\n",
       "      <td>73</td>\n",
       "      <td>5</td>\n",
       "      <td>6</td>\n",
       "      <td>8.8</td>\n",
       "      <td>6.0</td>\n",
       "      <td>0.0</td>\n",
       "      <td>0.0</td>\n",
       "      <td>0.0</td>\n",
       "      <td>0.0</td>\n",
       "      <td>0</td>\n",
       "      <td>0</td>\n",
       "    </tr>\n",
       "  </tbody>\n",
       "</table>\n",
       "</div>"
      ],
      "text/plain": [
       "   IPC1  IPC2  IPC3  IAC1  IAC2  LLC1  LLC2  ISK1  ISK2  ISK3  ISK4  IAS1  \\\n",
       "0    69    63    78    87    94    94    87    84    61     4     4   7.9   \n",
       "1    78    62    73    60    71    70    73    84    91     7     2   5.4   \n",
       "2    71    86    91    87    61    81    72    72    94     1     1   5.2   \n",
       "3    76    87    60    84    89    73    62    88    69     1     2   8.5   \n",
       "4    92    62    90    67    71    89    73    71    73     5     6   8.8   \n",
       "\n",
       "    IT2  IT3  IB1  IE1  IE2  ILR1  label  \n",
       "0   1.0  0.0  0.0  0.0  0.0     0      0  \n",
       "1   2.0  0.0  0.0  0.0  0.0     0      1  \n",
       "2   7.0  0.0  0.0  0.0  0.0     0      0  \n",
       "3  10.0  0.0  0.0  0.0  0.0     1      0  \n",
       "4   6.0  0.0  0.0  0.0  0.0     0      0  "
      ]
     },
     "execution_count": 9,
     "metadata": {},
     "output_type": "execute_result"
    }
   ],
   "source": [
    "dataset.head()"
   ]
  },
  {
   "cell_type": "code",
   "execution_count": 10,
   "metadata": {},
   "outputs": [
    {
     "data": {
      "image/png": "[encoded data removed]",
      "text/plain": [
       "<Figure size 1008x720 with 2 Axes>"
      ]
     },
     "metadata": {
      "needs_background": "light"
     },
     "output_type": "display_data"
    }
   ],
   "source": [
    "#find and plot correlation graph\n",
    "plt.figure(figsize=(14,10))\n",
    "sns.heatmap(dataset.corr(), cmap='Blues', annot=True)\n",
    "plt.title(\"Features Correlation Matrix\")\n",
    "plt.show()"
   ]
  },
  {
   "cell_type": "code",
   "execution_count": 11,
   "metadata": {},
   "outputs": [
    {
     "name": "stdout",
     "output_type": "stream",
     "text": [
      "Removed Columns : ['ISK2', 'ISK4']\n"
     ]
    },
    {
     "data": {
      "text/html": [
       "<div>\n",
       "<style scoped>\n",
       "    .dataframe tbody tr th:only-of-type {\n",
       "        vertical-align: middle;\n",
       "    }\n",
       "\n",
       "    .dataframe tbody tr th {\n",
       "        vertical-align: top;\n",
       "    }\n",
       "\n",
       "    .dataframe thead th {\n",
       "        text-align: right;\n",
       "    }\n",
       "</style>\n",
       "<table border=\"1\" class=\"dataframe\">\n",
       "  <thead>\n",
       "    <tr style=\"text-align: right;\">\n",
       "      <th></th>\n",
       "      <th>IPC1</th>\n",
       "      <th>IPC2</th>\n",
       "      <th>IPC3</th>\n",
       "      <th>IAC1</th>\n",
       "      <th>IAC2</th>\n",
       "      <th>LLC1</th>\n",
       "      <th>LLC2</th>\n",
       "      <th>ISK1</th>\n",
       "      <th>ISK3</th>\n",
       "      <th>IAS1</th>\n",
       "      <th>IT2</th>\n",
       "      <th>IT3</th>\n",
       "      <th>IB1</th>\n",
       "      <th>IE1</th>\n",
       "      <th>IE2</th>\n",
       "      <th>ILR1</th>\n",
       "      <th>label</th>\n",
       "    </tr>\n",
       "  </thead>\n",
       "  <tbody>\n",
       "    <tr>\n",
       "      <th>0</th>\n",
       "      <td>69</td>\n",
       "      <td>63</td>\n",
       "      <td>78</td>\n",
       "      <td>87</td>\n",
       "      <td>94</td>\n",
       "      <td>94</td>\n",
       "      <td>87</td>\n",
       "      <td>84</td>\n",
       "      <td>4</td>\n",
       "      <td>7.9</td>\n",
       "      <td>1.0</td>\n",
       "      <td>0.0</td>\n",
       "      <td>0.0</td>\n",
       "      <td>0.0</td>\n",
       "      <td>0.0</td>\n",
       "      <td>0</td>\n",
       "      <td>0</td>\n",
       "    </tr>\n",
       "    <tr>\n",
       "      <th>1</th>\n",
       "      <td>78</td>\n",
       "      <td>62</td>\n",
       "      <td>73</td>\n",
       "      <td>60</td>\n",
       "      <td>71</td>\n",
       "      <td>70</td>\n",
       "      <td>73</td>\n",
       "      <td>84</td>\n",
       "      <td>7</td>\n",
       "      <td>5.4</td>\n",
       "      <td>2.0</td>\n",
       "      <td>0.0</td>\n",
       "      <td>0.0</td>\n",
       "      <td>0.0</td>\n",
       "      <td>0.0</td>\n",
       "      <td>0</td>\n",
       "      <td>1</td>\n",
       "    </tr>\n",
       "    <tr>\n",
       "      <th>2</th>\n",
       "      <td>71</td>\n",
       "      <td>86</td>\n",
       "      <td>91</td>\n",
       "      <td>87</td>\n",
       "      <td>61</td>\n",
       "      <td>81</td>\n",
       "      <td>72</td>\n",
       "      <td>72</td>\n",
       "      <td>1</td>\n",
       "      <td>5.2</td>\n",
       "      <td>7.0</td>\n",
       "      <td>0.0</td>\n",
       "      <td>0.0</td>\n",
       "      <td>0.0</td>\n",
       "      <td>0.0</td>\n",
       "      <td>0</td>\n",
       "      <td>0</td>\n",
       "    </tr>\n",
       "    <tr>\n",
       "      <th>3</th>\n",
       "      <td>76</td>\n",
       "      <td>87</td>\n",
       "      <td>60</td>\n",
       "      <td>84</td>\n",
       "      <td>89</td>\n",
       "      <td>73</td>\n",
       "      <td>62</td>\n",
       "      <td>88</td>\n",
       "      <td>1</td>\n",
       "      <td>8.5</td>\n",
       "      <td>10.0</td>\n",
       "      <td>0.0</td>\n",
       "      <td>0.0</td>\n",
       "      <td>0.0</td>\n",
       "      <td>0.0</td>\n",
       "      <td>1</td>\n",
       "      <td>0</td>\n",
       "    </tr>\n",
       "    <tr>\n",
       "      <th>4</th>\n",
       "      <td>92</td>\n",
       "      <td>62</td>\n",
       "      <td>90</td>\n",
       "      <td>67</td>\n",
       "      <td>71</td>\n",
       "      <td>89</td>\n",
       "      <td>73</td>\n",
       "      <td>71</td>\n",
       "      <td>5</td>\n",
       "      <td>8.8</td>\n",
       "      <td>6.0</td>\n",
       "      <td>0.0</td>\n",
       "      <td>0.0</td>\n",
       "      <td>0.0</td>\n",
       "      <td>0.0</td>\n",
       "      <td>0</td>\n",
       "      <td>0</td>\n",
       "    </tr>\n",
       "    <tr>\n",
       "      <th>...</th>\n",
       "      <td>...</td>\n",
       "      <td>...</td>\n",
       "      <td>...</td>\n",
       "      <td>...</td>\n",
       "      <td>...</td>\n",
       "      <td>...</td>\n",
       "      <td>...</td>\n",
       "      <td>...</td>\n",
       "      <td>...</td>\n",
       "      <td>...</td>\n",
       "      <td>...</td>\n",
       "      <td>...</td>\n",
       "      <td>...</td>\n",
       "      <td>...</td>\n",
       "      <td>...</td>\n",
       "      <td>...</td>\n",
       "      <td>...</td>\n",
       "    </tr>\n",
       "    <tr>\n",
       "      <th>1008</th>\n",
       "      <td>88</td>\n",
       "      <td>85</td>\n",
       "      <td>68</td>\n",
       "      <td>84</td>\n",
       "      <td>88</td>\n",
       "      <td>66</td>\n",
       "      <td>86</td>\n",
       "      <td>76</td>\n",
       "      <td>2</td>\n",
       "      <td>7.6</td>\n",
       "      <td>1.0</td>\n",
       "      <td>0.0</td>\n",
       "      <td>0.0</td>\n",
       "      <td>0.0</td>\n",
       "      <td>0.0</td>\n",
       "      <td>0</td>\n",
       "      <td>0</td>\n",
       "    </tr>\n",
       "    <tr>\n",
       "      <th>1009</th>\n",
       "      <td>76</td>\n",
       "      <td>63</td>\n",
       "      <td>92</td>\n",
       "      <td>74</td>\n",
       "      <td>76</td>\n",
       "      <td>81</td>\n",
       "      <td>76</td>\n",
       "      <td>87</td>\n",
       "      <td>8</td>\n",
       "      <td>7.4</td>\n",
       "      <td>7.0</td>\n",
       "      <td>0.0</td>\n",
       "      <td>0.0</td>\n",
       "      <td>0.0</td>\n",
       "      <td>0.0</td>\n",
       "      <td>1</td>\n",
       "      <td>0</td>\n",
       "    </tr>\n",
       "    <tr>\n",
       "      <th>1010</th>\n",
       "      <td>74</td>\n",
       "      <td>94</td>\n",
       "      <td>94</td>\n",
       "      <td>82</td>\n",
       "      <td>64</td>\n",
       "      <td>92</td>\n",
       "      <td>84</td>\n",
       "      <td>67</td>\n",
       "      <td>4</td>\n",
       "      <td>7.7</td>\n",
       "      <td>5.0</td>\n",
       "      <td>0.0</td>\n",
       "      <td>0.0</td>\n",
       "      <td>0.0</td>\n",
       "      <td>0.0</td>\n",
       "      <td>0</td>\n",
       "      <td>2</td>\n",
       "    </tr>\n",
       "    <tr>\n",
       "      <th>1011</th>\n",
       "      <td>60</td>\n",
       "      <td>84</td>\n",
       "      <td>84</td>\n",
       "      <td>70</td>\n",
       "      <td>80</td>\n",
       "      <td>78</td>\n",
       "      <td>64</td>\n",
       "      <td>83</td>\n",
       "      <td>8</td>\n",
       "      <td>7.6</td>\n",
       "      <td>8.0</td>\n",
       "      <td>0.0</td>\n",
       "      <td>0.0</td>\n",
       "      <td>0.0</td>\n",
       "      <td>0.0</td>\n",
       "      <td>1</td>\n",
       "      <td>0</td>\n",
       "    </tr>\n",
       "    <tr>\n",
       "      <th>1012</th>\n",
       "      <td>91</td>\n",
       "      <td>61</td>\n",
       "      <td>83</td>\n",
       "      <td>80</td>\n",
       "      <td>88</td>\n",
       "      <td>62</td>\n",
       "      <td>88</td>\n",
       "      <td>76</td>\n",
       "      <td>9</td>\n",
       "      <td>7.4</td>\n",
       "      <td>5.0</td>\n",
       "      <td>0.0</td>\n",
       "      <td>0.0</td>\n",
       "      <td>0.0</td>\n",
       "      <td>0.0</td>\n",
       "      <td>0</td>\n",
       "      <td>0</td>\n",
       "    </tr>\n",
       "  </tbody>\n",
       "</table>\n",
       "<p>1013 rows × 17 columns</p>\n",
       "</div>"
      ],
      "text/plain": [
       "      IPC1  IPC2  IPC3  IAC1  IAC2  LLC1  LLC2  ISK1  ISK3  IAS1   IT2  IT3  \\\n",
       "0       69    63    78    87    94    94    87    84     4   7.9   1.0  0.0   \n",
       "1       78    62    73    60    71    70    73    84     7   5.4   2.0  0.0   \n",
       "2       71    86    91    87    61    81    72    72     1   5.2   7.0  0.0   \n",
       "3       76    87    60    84    89    73    62    88     1   8.5  10.0  0.0   \n",
       "4       92    62    90    67    71    89    73    71     5   8.8   6.0  0.0   \n",
       "...    ...   ...   ...   ...   ...   ...   ...   ...   ...   ...   ...  ...   \n",
       "1008    88    85    68    84    88    66    86    76     2   7.6   1.0  0.0   \n",
       "1009    76    63    92    74    76    81    76    87     8   7.4   7.0  0.0   \n",
       "1010    74    94    94    82    64    92    84    67     4   7.7   5.0  0.0   \n",
       "1011    60    84    84    70    80    78    64    83     8   7.6   8.0  0.0   \n",
       "1012    91    61    83    80    88    62    88    76     9   7.4   5.0  0.0   \n",
       "\n",
       "      IB1  IE1  IE2  ILR1  label  \n",
       "0     0.0  0.0  0.0     0      0  \n",
       "1     0.0  0.0  0.0     0      1  \n",
       "2     0.0  0.0  0.0     0      0  \n",
       "3     0.0  0.0  0.0     1      0  \n",
       "4     0.0  0.0  0.0     0      0  \n",
       "...   ...  ...  ...   ...    ...  \n",
       "1008  0.0  0.0  0.0     0      0  \n",
       "1009  0.0  0.0  0.0     1      0  \n",
       "1010  0.0  0.0  0.0     0      2  \n",
       "1011  0.0  0.0  0.0     1      0  \n",
       "1012  0.0  0.0  0.0     0      0  \n",
       "\n",
       "[1013 rows x 17 columns]"
      ]
     },
     "execution_count": 11,
     "metadata": {},
     "output_type": "execute_result"
    }
   ],
   "source": [
    "#now remove features with less importance and select only those features who has high correctlation values\n",
    "corr_matrix = dataset.corr().abs()\n",
    "upper = corr_matrix.where(np.triu(np.ones(corr_matrix.shape), k=1).astype(np.bool))\n",
    "to_drop = [column for column in upper.columns if any(upper[column] < 0.001)]\n",
    "dataset.drop(to_drop, axis=1, inplace=True)\n",
    "print(\"Removed Columns : \"+str(to_drop))\n",
    "dataset"
   ]
  },
  {
   "cell_type": "code",
   "execution_count": 12,
   "metadata": {},
   "outputs": [
    {
     "data": {
      "text/plain": [
       "Index(['IPC1', 'IPC2', 'IPC3', 'IAC1', 'IAC2', 'LLC1', 'LLC2', 'ISK1', 'ISK3',\n",
       "       'IAS1', 'IT2', 'IT3', 'IB1', 'IE1', 'IE2', 'ILR1', 'label'],\n",
       "      dtype='object')"
      ]
     },
     "execution_count": 12,
     "metadata": {},
     "output_type": "execute_result"
    }
   ],
   "source": [
    "dataset.columns"
   ]
  },
  {
   "cell_type": "code",
   "execution_count": 13,
   "metadata": {},
   "outputs": [],
   "source": [
    "X = dataset[['IPC1', 'IPC2', 'IPC3', 'IAC1', 'IAC2', 'LLC1', 'LLC2', 'ISK1', 'ISK3',\n",
    "       'IAS1', 'IT2', 'IT3', 'IB1', 'IE1', 'IE2', 'ILR1']]\n",
    "Y = dataset['label']"
   ]
  },
  {
   "cell_type": "code",
   "execution_count": 14,
   "metadata": {},
   "outputs": [
    {
     "name": "stdout",
     "output_type": "stream",
     "text": [
      "\n",
      "Dataset train & test split as 80% dataset for training and 20% for testing\n",
      "Training Size (80%): 810\n",
      "Testing Size (20%): 203\n"
     ]
    }
   ],
   "source": [
    "X_train, X_test, y_train, y_test = train_test_split(X, Y, test_size=0.2) #split dataset into train and test\n",
    "print()\n",
    "print(\"Dataset train & test split as 80% dataset for training and 20% for testing\")\n",
    "print(\"Training Size (80%): \"+str(X_train.shape[0])) #print training and test size\n",
    "print(\"Testing Size (20%): \"+str(X_test.shape[0]))"
   ]
  },
  {
   "cell_type": "code",
   "execution_count": 15,
   "metadata": {},
   "outputs": [],
   "source": [
    "#define global variables to calculate and store accuracy and other metrics\n",
    "precision = []\n",
    "recall = []\n",
    "fscore = []\n",
    "accuracy = []\n",
    "\n",
    "ML_Model = []\n",
    "acc = []\n",
    "prec = []\n",
    "rec = []\n",
    "f1 = []\n",
    "\n",
    "#function to call for storing the results\n",
    "def storeResults(model, a,b,c,d):\n",
    "    ML_Model.append(model)\n",
    "    acc.append(round(a, 3))\n",
    "    prec.append(round(b, 3))\n",
    "    rec.append(round(c, 3))\n",
    "    f1.append(round(d, 3))"
   ]
  },
  {
   "cell_type": "code",
   "execution_count": 16,
   "metadata": {},
   "outputs": [],
   "source": [
    "#function to calculate various metrics such as accuracy, precision etc\n",
    "def calculateMetrics(algorithm, predict, testY):\n",
    "    p = precision_score(testY, predict,average='macro') * 100\n",
    "    r = recall_score(testY, predict,average='macro') * 100\n",
    "    f = f1_score(testY, predict,average='macro') * 100\n",
    "    a = accuracy_score(testY,predict)*100     \n",
    "    print()\n",
    "    print(algorithm+' Accuracy  : '+str(a))\n",
    "    print(algorithm+' Precision   : '+str(p))\n",
    "    print(algorithm+' Recall      : '+str(r))\n",
    "    print(algorithm+' FMeasure    : '+str(f))    \n",
    "    accuracy.append(a)\n",
    "    precision.append(p)\n",
    "    recall.append(r)\n",
    "    fscore.append(f)\n",
    "    labels = unique\n",
    "    conf_matrix = confusion_matrix(testY, predict) \n",
    "    plt.figure(figsize =(5, 5)) \n",
    "    ax = sns.heatmap(conf_matrix, xticklabels = labels, yticklabels = labels, annot = True, cmap=\"viridis\" ,fmt =\"g\");\n",
    "    ax.set_ylim([0,len(labels)])\n",
    "    plt.title(algorithm+\" Confusion matrix\") \n",
    "    plt.ylabel('True class') \n",
    "    plt.xlabel('Predicted class') \n",
    "    plt.show()"
   ]
  },
  {
   "cell_type": "markdown",
   "metadata": {},
   "source": [
    "DT"
   ]
  },
  {
   "cell_type": "code",
   "execution_count": 18,
   "metadata": {},
   "outputs": [
    {
     "name": "stdout",
     "output_type": "stream",
     "text": [
      "\n",
      "Decision Tree Accuracy  : 91.60493827160494\n",
      "Decision Tree Precision   : 91.56103854217062\n",
      "Decision Tree Recall      : 91.90526798366258\n",
      "Decision Tree FMeasure    : 91.66733230117498\n"
     ]
    },
    {
     "data": {
      "image/png": "[encoded data removed]",
      "text/plain": [
       "<Figure size 360x360 with 2 Axes>"
      ]
     },
     "metadata": {
      "needs_background": "light"
     },
     "output_type": "display_data"
    }
   ],
   "source": [
    "#now train decision tree classifier with hyper parameters\n",
    "dt_cls = DecisionTreeClassifier(criterion = \"gini\", max_depth = 200,splitter=\"best\",class_weight=\"balanced\",max_leaf_nodes=200)#giving hyper input parameter values\n",
    "dt_cls.fit(X_train, y_train)\n",
    "predict = dt_cls.predict(X_test)\n",
    "calculateMetrics(\"Decision Tree\", predict, y_test)"
   ]
  },
  {
   "cell_type": "code",
   "execution_count": 19,
   "metadata": {},
   "outputs": [],
   "source": [
    "val_acc = (accuracy_score(predict, y_test))\n",
    "val_prec = precision_score(predict, y_test,average='weighted')\n",
    "val_rec = recall_score(predict, y_test,average='weighted')\n",
    "val_f1 = f1_score(predict, y_test,average='weighted')\n",
    "\n",
    "storeResults('DT',val_acc,val_prec,val_rec,val_f1)"
   ]
  },
  {
   "cell_type": "markdown",
   "metadata": {},
   "source": [
    "# KNN"
   ]
  },
  {
   "cell_type": "code",
   "execution_count": 21,
   "metadata": {},
   "outputs": [
    {
     "name": "stdout",
     "output_type": "stream",
     "text": [
      "\n",
      "KNN Accuracy  : 65.80246913580247\n",
      "KNN Precision   : 75.29424127784785\n",
      "KNN Recall      : 63.737809452363095\n",
      "KNN FMeasure    : 61.21599267940731\n"
     ]
    },
    {
     "data": {
      "image/png": "[encoded data removed]",
      "text/plain": [
       "<Figure size 360x360 with 2 Axes>"
      ]
     },
     "metadata": {
      "needs_background": "light"
     },
     "output_type": "display_data"
    }
   ],
   "source": [
    "#now training KNN algorithm\n",
    "knn_cls =  KNeighborsClassifier(n_neighbors=2)\n",
    "knn_cls.fit(X_train, y_train)\n",
    "predict = knn_cls.predict(X_test)\n",
    "calculateMetrics(\"KNN\", predict, y_test)"
   ]
  },
  {
   "cell_type": "code",
   "execution_count": 22,
   "metadata": {},
   "outputs": [],
   "source": [
    "val_acc = (accuracy_score(predict, y_test))\n",
    "val_prec = precision_score(predict, y_test,average='weighted')\n",
    "val_rec = recall_score(predict, y_test,average='weighted')\n",
    "val_f1 = f1_score(predict, y_test,average='weighted')\n",
    "\n",
    "storeResults('KNN',val_acc,val_prec,val_rec,val_f1)"
   ]
  },
  {
   "cell_type": "markdown",
   "metadata": {},
   "source": [
    "NB"
   ]
  },
  {
   "cell_type": "code",
   "execution_count": 24,
   "metadata": {},
   "outputs": [
    {
     "name": "stdout",
     "output_type": "stream",
     "text": [
      "\n",
      "Naive Bayes Accuracy  : 35.467980295566505\n",
      "Naive Bayes Precision   : 39.30659983291562\n",
      "Naive Bayes Recall      : 37.56938625890239\n",
      "Naive Bayes FMeasure    : 31.63075427700906\n"
     ]
    },
    {
     "data": {
      "image/png": "[encoded data removed]",
      "text/plain": [
       "<Figure size 360x360 with 2 Axes>"
      ]
     },
     "metadata": {
      "needs_background": "light"
     },
     "output_type": "display_data"
    }
   ],
   "source": [
    "#now training Naive Bayes algorithm\n",
    "nb_cls =  GaussianNB(var_smoothing=0.09)\n",
    "nb_cls.fit(X_train, y_train)\n",
    "predict = nb_cls.predict(X_test)\n",
    "calculateMetrics(\"Naive Bayes\", predict, y_test)"
   ]
  },
  {
   "cell_type": "code",
   "execution_count": 25,
   "metadata": {},
   "outputs": [],
   "source": [
    "val_acc = (accuracy_score(predict, y_test))\n",
    "val_prec = precision_score(predict, y_test,average='weighted')\n",
    "val_rec = recall_score(predict, y_test,average='weighted')\n",
    "val_f1 = f1_score(predict, y_test,average='weighted')\n",
    "\n",
    "storeResults('NB',val_acc,val_prec,val_rec,val_f1)"
   ]
  },
  {
   "cell_type": "markdown",
   "metadata": {},
   "source": [
    "MLP"
   ]
  },
  {
   "cell_type": "code",
   "execution_count": 30,
   "metadata": {},
   "outputs": [
    {
     "name": "stdout",
     "output_type": "stream",
     "text": [
      "\n",
      "Neural Network Accuracy  : 31.03448275862069\n",
      "Neural Network Precision   : 38.37322911577919\n",
      "Neural Network Recall      : 33.63182516408323\n",
      "Neural Network FMeasure    : 21.9741500557738\n"
     ]
    },
    {
     "data": {
      "image/png": "[encoded data removed]",
      "text/plain": [
       "<Figure size 360x360 with 2 Axes>"
      ]
     },
     "metadata": {
      "needs_background": "light"
     },
     "output_type": "display_data"
    }
   ],
   "source": [
    "#now training neural network algorithm\n",
    "nn_cls =  MLPClassifier(max_iter=500, learning_rate_init=0.01, momentum=0.9)\n",
    "nn_cls.fit(X_train, y_train)\n",
    "predict = nn_cls.predict(X_test)\n",
    "calculateMetrics(\"Neural Network\", predict, y_test)"
   ]
  },
  {
   "cell_type": "code",
   "execution_count": 31,
   "metadata": {},
   "outputs": [],
   "source": [
    "val_acc = (accuracy_score(predict, y_test))\n",
    "val_prec = precision_score(predict, y_test,average='weighted')\n",
    "val_rec = recall_score(predict, y_test,average='weighted')\n",
    "val_f1 = f1_score(predict, y_test,average='weighted')\n",
    "\n",
    "storeResults('MLP',val_acc,val_prec,val_rec,val_f1)"
   ]
  },
  {
   "cell_type": "markdown",
   "metadata": {},
   "source": [
    "RF"
   ]
  },
  {
   "cell_type": "code",
   "execution_count": 36,
   "metadata": {},
   "outputs": [
    {
     "name": "stdout",
     "output_type": "stream",
     "text": [
      "\n",
      "Random Forest Accuracy  : 100.0\n",
      "Random Forest Precision   : 100.0\n",
      "Random Forest Recall      : 100.0\n",
      "Random Forest FMeasure    : 100.0\n"
     ]
    },
    {
     "data": {
      "image/png": "[encoded data removed]",
      "text/plain": [
       "<Figure size 360x360 with 2 Axes>"
      ]
     },
     "metadata": {
      "needs_background": "light"
     },
     "output_type": "display_data"
    }
   ],
   "source": [
    "#now train Random Forest algorithm\n",
    "rf_cls = RandomForestClassifier(n_estimators=150,criterion='entropy')\n",
    "rf_cls.fit(X_train, y_train)\n",
    "predict = rf_cls.predict(X_test)\n",
    "calculateMetrics(\"Random Forest\", predict, y_test)"
   ]
  },
  {
   "cell_type": "code",
   "execution_count": 37,
   "metadata": {},
   "outputs": [],
   "source": [
    "val_acc = (accuracy_score(predict, y_test))\n",
    "val_prec = precision_score(predict, y_test,average='weighted')\n",
    "val_rec = recall_score(predict, y_test,average='weighted')\n",
    "val_f1 = f1_score(predict, y_test,average='weighted')\n",
    "\n",
    "storeResults('RF',val_acc,val_prec,val_rec,val_f1)"
   ]
  },
  {
   "cell_type": "markdown",
   "metadata": {},
   "source": [
    "XGB"
   ]
  },
  {
   "cell_type": "code",
   "execution_count": 39,
   "metadata": {},
   "outputs": [
    {
     "name": "stdout",
     "output_type": "stream",
     "text": [
      "\n",
      "Extension XGBoost Accuracy  : 100.0\n",
      "Extension XGBoost Precision   : 100.0\n",
      "Extension XGBoost Recall      : 100.0\n",
      "Extension XGBoost FMeasure    : 100.0\n"
     ]
    },
    {
     "data": {
      "image/png": "[encoded data removed]",
      "text/plain": [
       "<Figure size 360x360 with 2 Axes>"
      ]
     },
     "metadata": {
      "needs_background": "light"
     },
     "output_type": "display_data"
    }
   ],
   "source": [
    "#now train extension XGBoost algorithm\n",
    "xgb_cls = XGBClassifier(n_estimators=90,learning_rate=0.01,max_depth=30,objective='num_class')\n",
    "xgb_cls.fit(X_train, y_train)\n",
    "predict = xgb_cls.predict(X_test)\n",
    "calculateMetrics(\"Extension XGBoost\", predict, y_test)"
   ]
  },
  {
   "cell_type": "code",
   "execution_count": 40,
   "metadata": {},
   "outputs": [],
   "source": [
    "val_acc = (accuracy_score(predict, y_test))\n",
    "val_prec = precision_score(predict, y_test,average='weighted')\n",
    "val_rec = recall_score(predict, y_test,average='weighted')\n",
    "val_f1 = f1_score(predict, y_test,average='weighted')\n",
    "\n",
    "storeResults('XGB',val_acc,val_prec,val_rec,val_f1)"
   ]
  },
  {
   "cell_type": "markdown",
   "metadata": {},
   "source": [
    "# Comparison"
   ]
  },
  {
   "cell_type": "code",
   "execution_count": 46,
   "metadata": {},
   "outputs": [],
   "source": [
    "#creating dataframe\n",
    "result = pd.DataFrame({ 'ML Model' : ML_Model,\n",
    "                        'Accuracy' : acc,\n",
    "                       'Precision': prec, \n",
    "                       'f1_score' : f1,\n",
    "                        'Recall'   : rec,\n",
    "                        \n",
    "                      })"
   ]
  },
  {
   "cell_type": "code",
   "execution_count": 47,
   "metadata": {},
   "outputs": [
    {
     "data": {
      "text/html": [
       "<div>\n",
       "<style scoped>\n",
       "    .dataframe tbody tr th:only-of-type {\n",
       "        vertical-align: middle;\n",
       "    }\n",
       "\n",
       "    .dataframe tbody tr th {\n",
       "        vertical-align: top;\n",
       "    }\n",
       "\n",
       "    .dataframe thead th {\n",
       "        text-align: right;\n",
       "    }\n",
       "</style>\n",
       "<table border=\"1\" class=\"dataframe\">\n",
       "  <thead>\n",
       "    <tr style=\"text-align: right;\">\n",
       "      <th></th>\n",
       "      <th>ML Model</th>\n",
       "      <th>Accuracy</th>\n",
       "      <th>Precision</th>\n",
       "      <th>f1_score</th>\n",
       "      <th>Recall</th>\n",
       "    </tr>\n",
       "  </thead>\n",
       "  <tbody>\n",
       "    <tr>\n",
       "      <th>0</th>\n",
       "      <td>DT</td>\n",
       "      <td>0.916</td>\n",
       "      <td>0.918</td>\n",
       "      <td>0.916</td>\n",
       "      <td>0.916</td>\n",
       "    </tr>\n",
       "    <tr>\n",
       "      <th>1</th>\n",
       "      <td>KNN</td>\n",
       "      <td>0.658</td>\n",
       "      <td>0.825</td>\n",
       "      <td>0.696</td>\n",
       "      <td>0.658</td>\n",
       "    </tr>\n",
       "    <tr>\n",
       "      <th>2</th>\n",
       "      <td>NB</td>\n",
       "      <td>0.355</td>\n",
       "      <td>0.569</td>\n",
       "      <td>0.404</td>\n",
       "      <td>0.355</td>\n",
       "    </tr>\n",
       "    <tr>\n",
       "      <th>3</th>\n",
       "      <td>MLP</td>\n",
       "      <td>0.310</td>\n",
       "      <td>0.778</td>\n",
       "      <td>0.416</td>\n",
       "      <td>0.310</td>\n",
       "    </tr>\n",
       "    <tr>\n",
       "      <th>4</th>\n",
       "      <td>RF</td>\n",
       "      <td>1.000</td>\n",
       "      <td>1.000</td>\n",
       "      <td>1.000</td>\n",
       "      <td>1.000</td>\n",
       "    </tr>\n",
       "    <tr>\n",
       "      <th>5</th>\n",
       "      <td>XGB</td>\n",
       "      <td>1.000</td>\n",
       "      <td>1.000</td>\n",
       "      <td>1.000</td>\n",
       "      <td>1.000</td>\n",
       "    </tr>\n",
       "  </tbody>\n",
       "</table>\n",
       "</div>"
      ],
      "text/plain": [
       "  ML Model  Accuracy  Precision  f1_score  Recall\n",
       "0       DT     0.916      0.918     0.916   0.916\n",
       "1      KNN     0.658      0.825     0.696   0.658\n",
       "2       NB     0.355      0.569     0.404   0.355\n",
       "3      MLP     0.310      0.778     0.416   0.310\n",
       "4       RF     1.000      1.000     1.000   1.000\n",
       "5      XGB     1.000      1.000     1.000   1.000"
      ]
     },
     "execution_count": 47,
     "metadata": {},
     "output_type": "execute_result"
    }
   ],
   "source": [
    "result"
   ]
  },
  {
   "cell_type": "markdown",
   "metadata": {},
   "source": [
    "# Graph"
   ]
  },
  {
   "cell_type": "code",
   "execution_count": 49,
   "metadata": {},
   "outputs": [],
   "source": [
    "classifier = ML_Model\n",
    "y_pos = np.arange(len(classifier))"
   ]
  },
  {
   "cell_type": "markdown",
   "metadata": {},
   "source": [
    "# Accuracy"
   ]
  },
  {
   "cell_type": "code",
   "execution_count": 50,
   "metadata": {},
   "outputs": [
    {
     "data": {
      "image/png": "[encoded data removed]",
      "text/plain": [
       "<Figure size 432x288 with 1 Axes>"
      ]
     },
     "metadata": {
      "needs_background": "light"
     },
     "output_type": "display_data"
    }
   ],
   "source": [
    "import matplotlib.pyplot as plt2\n",
    "plt2.barh(y_pos, acc, align='center', alpha=0.5,color='blue')\n",
    "plt2.yticks(y_pos, classifier)\n",
    "plt2.xlabel('Accuracy Score')\n",
    "plt2.title('Classification Performance')\n",
    "plt2.show()"
   ]
  },
  {
   "cell_type": "markdown",
   "metadata": {},
   "source": [
    "Precision"
   ]
  },
  {
   "cell_type": "code",
   "execution_count": 51,
   "metadata": {},
   "outputs": [
    {
     "data": {
      "image/png": "[encoded data removed]",
      "text/plain": [
       "<Figure size 432x288 with 1 Axes>"
      ]
     },
     "metadata": {
      "needs_background": "light"
     },
     "output_type": "display_data"
    }
   ],
   "source": [
    "import matplotlib.pyplot as plt2\n",
    "plt2.barh(y_pos, prec, align='center', alpha=0.5,color='red')\n",
    "plt2.yticks(y_pos, classifier)\n",
    "plt2.xlabel('Precision Score')\n",
    "plt2.title('Classification Performance')\n",
    "plt2.show()"
   ]
  },
  {
   "cell_type": "markdown",
   "metadata": {},
   "source": [
    "Recall"
   ]
  },
  {
   "cell_type": "code",
   "execution_count": 52,
   "metadata": {},
   "outputs": [
    {
     "data": {
      "image/png": "[encoded data removed]",
      "text/plain": [
       "<Figure size 432x288 with 1 Axes>"
      ]
     },
     "metadata": {
      "needs_background": "light"
     },
     "output_type": "display_data"
    }
   ],
   "source": [
    "plt2.barh(y_pos, rec, align='center', alpha=0.5,color='yellow')\n",
    "plt2.yticks(y_pos, classifier)\n",
    "plt2.xlabel('Recall Score')\n",
    "plt2.title('Classification Performance')\n",
    "plt2.show()"
   ]
  },
  {
   "cell_type": "markdown",
   "metadata": {},
   "source": [
    "F1 Score"
   ]
  },
  {
   "cell_type": "code",
   "execution_count": 53,
   "metadata": {},
   "outputs": [
    {
     "data": {
      "image/png": "[encoded data removed]",
      "text/plain": [
       "<Figure size 432x288 with 1 Axes>"
      ]
     },
     "metadata": {
      "needs_background": "light"
     },
     "output_type": "display_data"
    }
   ],
   "source": [
    "plt2.barh(y_pos, f1, align='center', alpha=0.5,color='pink')\n",
    "plt2.yticks(y_pos, classifier)\n",
    "plt2.xlabel('F1 Score')\n",
    "plt2.title('Classification Performance')\n",
    "plt2.show()"
   ]
  },
  {
   "cell_type": "markdown",
   "metadata": {},
   "source": [
    "Modelling"
   ]
  },
  {
   "cell_type": "code",
   "execution_count": 54,
   "metadata": {},
   "outputs": [
    {
     "data": {
      "text/plain": [
       "['model1.sav']"
      ]
     },
     "execution_count": 54,
     "metadata": {},
     "output_type": "execute_result"
    }
   ],
   "source": [
    "import joblib\n",
    "filename1 = 'model1.sav'\n",
    "filename2 = 'model2.sav'\n",
    "joblib.dump(rf_cls, filename1)\n",
    "joblib.dump(xgb_cls, filename1)"
   ]
  },
  {
   "cell_type": "code",
   "execution_count": null,
   "metadata": {},
   "outputs": [],
   "source": []
  }
 ],
 "metadata": {
  "kernelspec": {
   "display_name": "Python 3",
   "language": "python",
   "name": "python3"
  },
  "language_info": {
   "codemirror_mode": {
    "name": "ipython",
    "version": 3
   },
   "file_extension": ".py",
   "mimetype": "text/x-python",
   "name": "python",
   "nbconvert_exporter": "python",
   "pygments_lexer": "ipython3",
   "version": "3.7.4"
  }
 },
 "nbformat": 4,
 "nbformat_minor": 5
}
